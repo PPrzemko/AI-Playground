{
 "cells": [
  {
   "cell_type": "code",
   "execution_count": 44,
   "id": "initial_id",
   "metadata": {
    "collapsed": true,
    "ExecuteTime": {
     "end_time": "2024-01-31T14:54:31.214315Z",
     "start_time": "2024-01-31T14:54:29.724190Z"
    }
   },
   "outputs": [],
   "source": [
    "import pandas as pd\n",
    "from keras.utils import to_categorical\n",
    "\n",
    "# loading data\n",
    "train = pd.read_csv('data/digit-recognizer/train.csv')\n",
    "test = pd.read_csv('data/digit-recognizer/test.csv')"
   ]
  },
  {
   "cell_type": "code",
   "outputs": [],
   "source": [
    "# Split features and labels in training set\n",
    "X = train.drop(labels=['label'], axis=1)\n",
    "y = train['label']\n",
    "# One hot encode labels\n",
    "Y = to_categorical(y, num_classes=10)\n",
    "# Normalize pixel data\n",
    "X = X / 255.0\n",
    "# Reshape image in 3 dimensions (height = 28px, width = 28px , canal = 1)\n",
    "X = X.values.reshape(-1, 28, 28, 1)"
   ],
   "metadata": {
    "collapsed": false,
    "ExecuteTime": {
     "end_time": "2024-01-31T14:54:31.359347Z",
     "start_time": "2024-01-31T14:54:31.215516Z"
    }
   },
   "id": "b76c21865875058c",
   "execution_count": 45
  },
  {
   "cell_type": "markdown",
   "source": [
    "# Definition des Modells"
   ],
   "metadata": {
    "collapsed": false
   },
   "id": "44f0ef05ded4f2f9"
  },
  {
   "cell_type": "code",
   "outputs": [],
   "source": [
    "from tensorflow.keras.models import Sequential\n",
    "from tensorflow.keras.layers import Conv2D, MaxPooling2D, Flatten, Dense\n",
    "#from tensorflow.keras.optimizers import RMSprop\n",
    "from tensorflow.keras.optimizers.legacy import RMSprop  # legacy for m1,m2 macs\n",
    "from sklearn.model_selection import train_test_split\n",
    "from sklearn.metrics import accuracy_score"
   ],
   "metadata": {
    "collapsed": false,
    "ExecuteTime": {
     "end_time": "2024-01-31T14:54:31.369085Z",
     "start_time": "2024-01-31T14:54:31.359491Z"
    }
   },
   "id": "709e80cdca9437e5",
   "execution_count": 46
  },
  {
   "cell_type": "code",
   "outputs": [],
   "source": [
    "model = Sequential([\n",
    "    Conv2D(32, (3, 3), activation='relu', input_shape=(28, 28, 1)),\n",
    "    MaxPooling2D(2, 2),\n",
    "    Conv2D(64, (3, 3), activation='relu'),\n",
    "    MaxPooling2D(2, 2),\n",
    "    Flatten(),\n",
    "    Dense(512, activation='relu'),\n",
    "    Dense(10, activation='softmax')\n",
    "])"
   ],
   "metadata": {
    "collapsed": false,
    "ExecuteTime": {
     "end_time": "2024-01-31T14:54:31.394559Z",
     "start_time": "2024-01-31T14:54:31.367459Z"
    }
   },
   "id": "fbf9888fabfd35ad",
   "execution_count": 47
  },
  {
   "cell_type": "markdown",
   "source": [
    "# Trainieren des Modells"
   ],
   "metadata": {
    "collapsed": false
   },
   "id": "235af2a282e6de35"
  },
  {
   "cell_type": "code",
   "outputs": [
    {
     "name": "stdout",
     "output_type": "stream",
     "text": [
      "420/420 [==============================] - 7s 17ms/step - loss: 0.1703 - accuracy: 0.9487\n"
     ]
    }
   ],
   "source": [
    "# Compiling model\n",
    "model.compile(optimizer=RMSprop(), loss='categorical_crossentropy', metrics=['accuracy'])\n",
    "# Fitting model\n",
    "history = model.fit(X, Y, batch_size=100, epochs=1)"
   ],
   "metadata": {
    "collapsed": false,
    "ExecuteTime": {
     "end_time": "2024-01-31T14:54:38.789357Z",
     "start_time": "2024-01-31T14:54:31.396616Z"
    }
   },
   "id": "afabceaedd7a155d",
   "execution_count": 48
  },
  {
   "cell_type": "markdown",
   "source": [
    "# Evaluieren des Modells"
   ],
   "metadata": {
    "collapsed": false
   },
   "id": "f2cebfc03f0cc4e7"
  },
  {
   "cell_type": "code",
   "outputs": [
    {
     "name": "stdout",
     "output_type": "stream",
     "text": [
      "329/329 [==============================] - 1s 3ms/step\n",
      "Accuracy on the test set: 0.9823809523809524\n"
     ]
    }
   ],
   "source": [
    "# Split the data in training and test set\n",
    "X_train, X_test, Y_train, Y_test = train_test_split(X, Y)\n",
    "\n",
    "Y_pred = model.predict(X_test)\n",
    "\n",
    "# Y_test and Y_pred need to be one-hot encoded\n",
    "accuracy = accuracy_score(Y_test.argmax(axis=1), Y_pred.argmax(axis=1))\n",
    "\n",
    "print(\"Accuracy on the test set:\", accuracy)\n"
   ],
   "metadata": {
    "collapsed": false,
    "ExecuteTime": {
     "end_time": "2024-01-31T14:54:39.964434Z",
     "start_time": "2024-01-31T14:54:38.791651Z"
    }
   },
   "id": "af228d4caa8fa53d",
   "execution_count": 49
  },
  {
   "cell_type": "markdown",
   "source": [
    "# Erzeugen einer Submission Datei"
   ],
   "metadata": {
    "collapsed": false
   },
   "id": "d2263b64f891234c"
  },
  {
   "cell_type": "code",
   "outputs": [
    {
     "name": "stdout",
     "output_type": "stream",
     "text": [
      "875/875 [==============================] - 2s 2ms/step\n"
     ]
    }
   ],
   "source": [
    "import numpy as np\n",
    "\n",
    "# Extract values from the DataFrame and reshape\n",
    "test_values = test.values.reshape(-1, 28, 28, 1)\n",
    "\n",
    "# Predict results\n",
    "results = model.predict(test_values)\n",
    "\n",
    "# One hot decoding: Select the index with the maximum probability\n",
    "results = np.argmax(results, axis=1)\n",
    "\n",
    "# Add columns ImageID and Label\n",
    "results = pd.Series(results, name=\"Label\")\n",
    "submission = pd.concat([pd.Series(range(1, len(results) + 1), name=\"ImageId\"), results], axis=1)\n",
    "\n",
    "# Generate CSV file\n",
    "submission.to_csv('data/digit-recognizer/submission.csv', index=False)"
   ],
   "metadata": {
    "collapsed": false,
    "ExecuteTime": {
     "end_time": "2024-01-31T14:54:42.398826Z",
     "start_time": "2024-01-31T14:54:39.965817Z"
    }
   },
   "id": "6f015dac5d54b268",
   "execution_count": 50
  }
 ],
 "metadata": {
  "kernelspec": {
   "display_name": "Python 3",
   "language": "python",
   "name": "python3"
  },
  "language_info": {
   "codemirror_mode": {
    "name": "ipython",
    "version": 2
   },
   "file_extension": ".py",
   "mimetype": "text/x-python",
   "name": "python",
   "nbconvert_exporter": "python",
   "pygments_lexer": "ipython2",
   "version": "2.7.6"
  }
 },
 "nbformat": 4,
 "nbformat_minor": 5
}
