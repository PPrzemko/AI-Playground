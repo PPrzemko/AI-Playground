{
 "cells": [
  {
   "cell_type": "code",
   "execution_count": 171,
   "id": "initial_id",
   "metadata": {
    "collapsed": true,
    "ExecuteTime": {
     "end_time": "2024-01-16T20:50:05.369534Z",
     "start_time": "2024-01-16T20:50:05.355885Z"
    }
   },
   "outputs": [],
   "source": [
    "import spacy\n",
    "\n",
    "# Modelle installieren und Text verarbeiten\n",
    "#python3 -m spacy download en_core_web_sm\n",
    "#python3 -m spacy download de_core_news_sm"
   ]
  },
  {
   "cell_type": "markdown",
   "source": [
    "# Ähnlichkeitsmetrik anwenden (similarity metric)"
   ],
   "metadata": {
    "collapsed": false
   },
   "id": "4051293919e51d8d"
  },
  {
   "cell_type": "code",
   "outputs": [
    {
     "name": "stdout",
     "output_type": "stream",
     "text": [
      "mango vs. ananas 0.524490237236023\n",
      "pizza vs. dogs 0.0301766786724329\n",
      "True True True True\n",
      "[ 1.6968e-01 -1.1406e+00  4.2686e-01 -1.1662e-01  3.1422e+00 -1.7256e+00\n",
      "  8.5684e-01 -1.8575e+00 -3.0863e+00  9.7959e-01 -1.8544e+00 -7.3673e-02\n",
      "  1.7760e+00  1.4921e+00 -1.4639e+00 -4.2563e+00  3.9893e-01 -1.4180e+00\n",
      "  2.1238e+00 -2.6686e+00 -6.1075e-01  3.6439e+00  8.2714e-01  1.4939e-01\n",
      "  5.1963e-01  5.0651e-02 -1.0765e+00 -1.1264e+00 -1.1290e+00 -4.1344e+00\n",
      "  1.0955e+00 -8.9723e-01 -1.2512e+00  2.8614e-01  1.9688e+00 -9.2044e-01\n",
      " -1.5579e+00 -2.3330e+00 -2.5618e+00 -3.9875e+00 -4.6655e-01  1.8044e-01\n",
      " -9.9386e-01  2.3489e+00  2.4804e+00  4.1089e-01  5.7436e-01  2.2858e+00\n",
      "  1.3014e+00 -1.5357e+00  2.9267e-01 -1.4692e+00 -1.4985e+00 -5.0963e-01\n",
      "  3.2040e+00 -5.7984e-01 -1.5260e+00 -1.1930e+00  1.5599e+00 -1.3757e+00\n",
      "  2.0683e-01  1.4810e+00  1.5973e+00 -7.8030e-01 -8.6978e-01  2.1282e-01\n",
      " -9.3034e-01 -3.2458e+00  5.2884e+00 -7.2662e-01 -4.1247e+00  3.5894e-01\n",
      " -1.3810e+00  3.0313e-01  6.7794e-01  2.0465e+00 -7.8869e-01 -1.8496e+00\n",
      "  2.1290e+00  2.4916e+00  2.5499e+00  7.3151e-01 -2.6990e+00 -9.0489e-01\n",
      "  9.1901e-01  4.8765e-02  3.2307e+00  1.9300e+00 -3.5419e+00  2.2851e+00\n",
      "  2.4391e+00  2.2240e+00 -8.4531e-01 -1.3486e-01 -2.0169e+00 -3.7107e-01\n",
      "  7.8694e-01 -2.2409e+00  9.9841e-01 -1.7528e+00  1.3547e+00 -3.7783e+00\n",
      "  1.6734e+00  1.1804e+00 -2.3624e+00  2.9778e-01 -1.9597e+00  1.6744e+00\n",
      "  1.5992e+00  9.0302e-02 -6.2400e-01  3.3026e+00  2.3090e+00  8.8830e-01\n",
      " -9.7778e-01 -3.9480e+00  1.2772e+00 -2.5633e+00 -1.7164e-01  1.1299e+00\n",
      "  3.2359e+00  1.2360e+00  5.6800e-01  9.1618e-01  1.1672e+00 -1.5229e-01\n",
      "  7.7082e-01 -1.9049e+00  3.3771e+00  8.2738e-01 -2.2602e+00  8.1078e-01\n",
      "  2.1801e+00 -3.6880e+00 -3.1400e+00  4.2954e-02 -3.3260e+00 -1.5323e+00\n",
      " -1.3479e+00 -2.1675e+00  7.9868e-01 -1.3478e+00  1.4587e+00 -1.5594e+00\n",
      "  2.6422e-01  8.9884e-02 -4.0256e-01 -1.6394e+00  1.0787e+00  5.9763e-01\n",
      "  7.1819e-02  3.8250e-01 -2.4093e+00 -1.8095e+00 -1.6659e+00  1.1031e+00\n",
      "  6.9334e-01 -4.9916e-01 -6.2424e-01 -3.2684e+00  2.4888e+00 -2.1689e+00\n",
      "  1.0492e+00  9.9401e-01  1.1619e+00 -3.3020e+00  1.4855e+00  1.5820e+00\n",
      "  1.5794e+00  1.0517e+00 -1.4050e+00 -1.7610e+00  3.1718e-01  2.1291e+00\n",
      " -2.3740e+00 -1.1431e+00  3.1689e+00 -1.8118e+00  3.6583e+00 -9.8897e-02\n",
      " -4.3753e+00  1.6564e+00 -6.4946e-01 -1.5130e-01  3.2063e-01  1.1986e-01\n",
      "  1.3769e+00  3.1645e-01  9.9486e-01 -9.0700e-01  1.2550e+00 -4.3316e+00\n",
      "  2.7049e-01  2.2155e+00  3.1367e+00  7.2285e-01 -1.2938e+00  1.7243e+00\n",
      " -5.7052e-01 -1.7114e+00  9.9631e-01  2.0407e+00 -1.8175e+00  5.8291e-01\n",
      "  5.2662e-01 -3.6600e+00 -1.6697e+00  1.7368e+00  9.8763e-02  3.5458e-02\n",
      "  1.1696e+00  3.1060e-01  1.4171e-02 -4.7640e-01  4.3873e+00 -1.7171e+00\n",
      "  1.3720e+00 -1.0542e+00  2.7742e+00 -5.0931e-01  1.7549e+00 -1.2979e-01\n",
      " -3.2024e+00  5.7921e-01  2.6683e+00 -5.8188e-01  4.3012e-01  7.1980e-01\n",
      " -8.7809e-01  2.7132e+00 -5.9442e-01  2.8833e+00 -1.3006e+00  8.4825e-01\n",
      " -3.2147e-01  8.8072e-01  4.4365e-01  2.8832e+00 -2.3848e+00 -1.7428e+00\n",
      "  7.0898e-01  1.6501e+00 -2.0646e+00  1.3110e+00  1.2819e+00  5.3436e+00\n",
      "  2.2969e+00 -2.7222e+00 -2.8413e+00 -3.1087e+00 -4.4489e+00 -3.9134e-01\n",
      " -1.3959e+00 -7.7212e-01 -6.5605e-01 -1.7980e+00 -1.3681e+00  4.0462e-01\n",
      "  2.2703e+00  2.5288e+00 -1.2152e+00 -2.1696e+00 -1.1173e+00  4.2244e-02\n",
      " -9.2237e-01 -1.7539e+00 -5.3072e-01  7.0368e-01 -3.8687e-01 -2.5747e+00\n",
      "  8.0692e-01  1.1029e+00  8.4305e-01 -3.5233e-01  2.4903e+00 -3.6038e+00\n",
      "  3.6676e+00  8.8256e-01 -1.6385e+00 -1.9410e+00  1.2472e+00 -2.0124e+00\n",
      " -1.9494e-01 -3.0466e+00  3.7816e-01 -2.3038e+00  6.8559e-01  2.8773e-01\n",
      " -1.1786e-01  3.5463e+00  1.7750e+00 -3.9590e+00 -8.9429e-01  1.0923e+00\n",
      " -3.4059e+00 -2.2473e+00  2.1997e+00 -5.3494e+00 -3.7085e-03  2.1799e+00]\n"
     ]
    }
   ],
   "source": [
    "#python3 -m spacy download en_core_web_lg \n",
    "nlp = spacy.load(\"en_core_web_lg\")\n",
    "doc = nlp(\"Mango and ananas are similar. Pizza and dogs aren't.\")\n",
    "mango = doc[0]\n",
    "ananas = doc[2]\n",
    "pizza = doc[6]\n",
    "dogs = doc[8]\n",
    "print(\"mango vs. ananas\", mango.similarity(ananas))\n",
    "print(\"pizza vs. dogs\", pizza.similarity(dogs))\n",
    "print(mango.has_vector, ananas.has_vector, pizza.has_vector, dogs.has_vector)\n",
    "print(mango.vector)"
   ],
   "metadata": {
    "collapsed": false,
    "ExecuteTime": {
     "end_time": "2024-01-16T20:50:06.132764Z",
     "start_time": "2024-01-16T20:50:05.372583Z"
    }
   },
   "id": "9d6606336702fd36",
   "execution_count": 172
  },
  {
   "cell_type": "markdown",
   "source": [
    "# Fortgeschrittenes NLP: Sätze parsen"
   ],
   "metadata": {
    "collapsed": false
   },
   "id": "b541eb0a528982b3"
  },
  {
   "cell_type": "code",
   "outputs": [
    {
     "data": {
      "text/plain": "<IPython.core.display.HTML object>",
      "text/html": "<span class=\"tex2jax_ignore\"><svg xmlns=\"http://www.w3.org/2000/svg\" xmlns:xlink=\"http://www.w3.org/1999/xlink\" xml:lang=\"en\" id=\"ba7c6b7319bc4b2ca1a616dc7713fd81-0\" class=\"displacy\" width=\"750\" height=\"312.0\" direction=\"ltr\" style=\"max-width: none; height: 312.0px; color: #000000; background: #ffffff; font-family: Arial; direction: ltr\">\n<text class=\"displacy-token\" fill=\"currentColor\" text-anchor=\"middle\" y=\"222.0\">\n    <tspan class=\"displacy-word\" fill=\"currentColor\" x=\"50\">This</tspan>\n    <tspan class=\"displacy-tag\" dy=\"2em\" fill=\"currentColor\" x=\"50\">PRON</tspan>\n</text>\n\n<text class=\"displacy-token\" fill=\"currentColor\" text-anchor=\"middle\" y=\"222.0\">\n    <tspan class=\"displacy-word\" fill=\"currentColor\" x=\"225\">is</tspan>\n    <tspan class=\"displacy-tag\" dy=\"2em\" fill=\"currentColor\" x=\"225\">AUX</tspan>\n</text>\n\n<text class=\"displacy-token\" fill=\"currentColor\" text-anchor=\"middle\" y=\"222.0\">\n    <tspan class=\"displacy-word\" fill=\"currentColor\" x=\"400\">a</tspan>\n    <tspan class=\"displacy-tag\" dy=\"2em\" fill=\"currentColor\" x=\"400\">DET</tspan>\n</text>\n\n<text class=\"displacy-token\" fill=\"currentColor\" text-anchor=\"middle\" y=\"222.0\">\n    <tspan class=\"displacy-word\" fill=\"currentColor\" x=\"575\">sentence.</tspan>\n    <tspan class=\"displacy-tag\" dy=\"2em\" fill=\"currentColor\" x=\"575\">NOUN</tspan>\n</text>\n\n<g class=\"displacy-arrow\">\n    <path class=\"displacy-arc\" id=\"arrow-ba7c6b7319bc4b2ca1a616dc7713fd81-0-0\" stroke-width=\"2px\" d=\"M70,177.0 C70,89.5 220.0,89.5 220.0,177.0\" fill=\"none\" stroke=\"currentColor\"/>\n    <text dy=\"1.25em\" style=\"font-size: 0.8em; letter-spacing: 1px\">\n        <textPath xlink:href=\"#arrow-ba7c6b7319bc4b2ca1a616dc7713fd81-0-0\" class=\"displacy-label\" startOffset=\"50%\" side=\"left\" fill=\"currentColor\" text-anchor=\"middle\">nsubj</textPath>\n    </text>\n    <path class=\"displacy-arrowhead\" d=\"M70,179.0 L62,167.0 78,167.0\" fill=\"currentColor\"/>\n</g>\n\n<g class=\"displacy-arrow\">\n    <path class=\"displacy-arc\" id=\"arrow-ba7c6b7319bc4b2ca1a616dc7713fd81-0-1\" stroke-width=\"2px\" d=\"M420,177.0 C420,89.5 570.0,89.5 570.0,177.0\" fill=\"none\" stroke=\"currentColor\"/>\n    <text dy=\"1.25em\" style=\"font-size: 0.8em; letter-spacing: 1px\">\n        <textPath xlink:href=\"#arrow-ba7c6b7319bc4b2ca1a616dc7713fd81-0-1\" class=\"displacy-label\" startOffset=\"50%\" side=\"left\" fill=\"currentColor\" text-anchor=\"middle\">det</textPath>\n    </text>\n    <path class=\"displacy-arrowhead\" d=\"M420,179.0 L412,167.0 428,167.0\" fill=\"currentColor\"/>\n</g>\n\n<g class=\"displacy-arrow\">\n    <path class=\"displacy-arc\" id=\"arrow-ba7c6b7319bc4b2ca1a616dc7713fd81-0-2\" stroke-width=\"2px\" d=\"M245,177.0 C245,2.0 575.0,2.0 575.0,177.0\" fill=\"none\" stroke=\"currentColor\"/>\n    <text dy=\"1.25em\" style=\"font-size: 0.8em; letter-spacing: 1px\">\n        <textPath xlink:href=\"#arrow-ba7c6b7319bc4b2ca1a616dc7713fd81-0-2\" class=\"displacy-label\" startOffset=\"50%\" side=\"left\" fill=\"currentColor\" text-anchor=\"middle\">attr</textPath>\n    </text>\n    <path class=\"displacy-arrowhead\" d=\"M575.0,179.0 L583.0,167.0 567.0,167.0\" fill=\"currentColor\"/>\n</g>\n</svg></span>"
     },
     "metadata": {},
     "output_type": "display_data"
    }
   ],
   "source": [
    "from spacy import displacy\n",
    "\n",
    "doc = nlp(\"This is a sentence.\")\n",
    "displacy.render(doc, style=\"dep\")"
   ],
   "metadata": {
    "collapsed": false,
    "ExecuteTime": {
     "end_time": "2024-01-16T20:50:06.498289Z",
     "start_time": "2024-01-16T20:50:06.131898Z"
    }
   },
   "id": "9ec9b25f52783a6d",
   "execution_count": 173
  },
  {
   "cell_type": "markdown",
   "source": [],
   "metadata": {
    "collapsed": false
   },
   "id": "64d5ad2f571d3b69"
  },
  {
   "cell_type": "code",
   "outputs": [],
   "source": [
    "import pandas as pd\n",
    "\n",
    "train_data = pd.read_csv('data/NLP_Question_Answering/QA_train_data.csv')\n",
    "test_data = pd.read_csv('data/NLP_Question_Answering/QA_test_data.csv')"
   ],
   "metadata": {
    "collapsed": false,
    "ExecuteTime": {
     "end_time": "2024-01-16T20:50:06.501625Z",
     "start_time": "2024-01-16T20:50:06.495854Z"
    }
   },
   "id": "beeb443ba6f3b99e",
   "execution_count": 174
  },
  {
   "cell_type": "markdown",
   "source": [
    "# Vorhersagelogik"
   ],
   "metadata": {
    "collapsed": false
   },
   "id": "373218c91491f3c"
  },
  {
   "cell_type": "code",
   "outputs": [],
   "source": [
    "def predict_answer(question: str) -> str:\n",
    "    \"\"\"\n",
    "    Predicts an answer to a given question\n",
    "    :param question: question string\n",
    "    :return: answer string or None if insufficient confidence\n",
    "    \"\"\"\n",
    "    best_match = None\n",
    "    best_similarity = 0.0\n",
    "\n",
    "    # Durchlaufe alle Trainingsfragen und finde die beste Übereinstimmung\n",
    "    for index, row in train_data.iterrows():\n",
    "        similarity = nlp(question).similarity(nlp(row['Question']))\n",
    "\n",
    "        if similarity > best_similarity:\n",
    "            best_similarity = similarity\n",
    "            best_match = row['Answer']\n",
    "\n",
    "\n",
    "    return best_match\n"
   ],
   "metadata": {
    "collapsed": false,
    "ExecuteTime": {
     "end_time": "2024-01-16T20:50:06.505298Z",
     "start_time": "2024-01-16T20:50:06.502786Z"
    }
   },
   "id": "319ef6280a964e91",
   "execution_count": 175
  },
  {
   "cell_type": "markdown",
   "source": [
    "# Vorhersagen"
   ],
   "metadata": {
    "collapsed": false
   },
   "id": "eb5e6a4979cff16a"
  },
  {
   "cell_type": "code",
   "outputs": [
    {
     "data": {
      "text/plain": "                                             Question  \\\n0    From which country is the film A Beautiful Mind?   \n1           Where was the film A Beautiful Mind made?   \n2   In which country was the film A Beautiful Mind...   \n3          Where was the movie A Beautiful Mind made?   \n4                     From which country is the film?   \n5                    From which country is this film?   \n6        When was the film A beautiful Mind released?   \n7        Of which genre is the film A Beautiful Mind?   \n8            Which kind of film is  A Beautiful Mind?   \n9           Which type of movie is  A Beautiful Mind?   \n10                    What is John Nash's profession?   \n11                           What is John Nash's job?   \n12                    Which prices did John Nash win?   \n13                    Which awards did John Nash win?   \n14                Which prices was John Nash awarded?   \n15               By which book was the film inspired?   \n16               Which book is the basis of the film?   \n17                         Who is acting in the film?   \n18                    Who are the actors in the film?   \n19                      Who is starring in this film?   \n20                        Who is acting in the movie?   \n21   At which university was Nash a graduate student?   \n22                      Where did John Nash graduate?   \n23     Where did John Nash get his university degree?   \n24                     What disease did Nash develop?   \n25                   What illness did John Nash have?   \n26               Which disorder did Nash suffer from?   \n27       When did the film open in the United states?   \n28                        When was the film released?   \n29                       When was the movie released?   \n30       When was the movie first released in the US?   \n31                       How much did the film gross?   \n32            What was the total revenue of the film?   \n33                What was the  revenue of the movie?   \n34          How many Academy Awards did the film win?   \n35                  How many Oscars did the film win?   \n36             How many Oscars was the movie awarded?   \n37                Did the film win  an Academy Award?   \n38                         Did the film win an Oscar?   \n39                     Was the film awarded an Oscar?   \n40          Was the movie awarded at least one Oscar?   \n41                         When does the story begin?   \n42                   What is the name of Nash’s wife?   \n43   Which awards did the movie A Beautiful Mind win?   \n\n                                               Answer  \\\n0                                             America   \n1                                             America   \n2                                             America   \n3                                             America   \n4                                             America   \n5                                             America   \n6                                                2001   \n7                                  biographical drama   \n8                                  biographical drama   \n9                                  biographical drama   \n10                                      mathematician   \n11                                      mathematician   \n12            Nobel price in Economics and Abel Prize   \n13            Nobel price in Economics and Abel Prize   \n14            Nobel price in Economics and Abel Prize   \n15  the bestselling Pulitzer Prize-nominated 1998 ...   \n16  the bestselling Pulitzer Prize-nominated 1998 ...   \n17  Russell Crowe, along with Ed Harris, Jennifer ...   \n18  Russell Crowe, along with Ed Harris, Jennifer ...   \n19  Russell Crowe, along with Ed Harris, Jennifer ...   \n20  Russell Crowe, along with Ed Harris, Jennifer ...   \n21                               Princeton University   \n22                               Princeton University   \n23                               Princeton University   \n24                             paranoid schizophrenia   \n25                             paranoid schizophrenia   \n26                             paranoid schizophrenia   \n27                                  December 21, 2001   \n28                                  December 21, 2001   \n29                                  December 21, 2001   \n30                                  December 21, 2001   \n31                        over $313 million worldwide   \n32                        over $313 million worldwide   \n33                        over $313 million worldwide   \n34                                               four   \n35                                               four   \n36                                               four   \n37                                                yes   \n38                                                yes   \n39                                                yes   \n40                                                yes   \n41  In Nash's days as a graduate student at Prince...   \n42                                             Alicia   \n43  Four Academy Awards, for Best Picture, Best Di...   \n\n                                            Predicted  \n0                                             America  \n1                                                2001  \n2                                                2001  \n3                                                2001  \n4   Russell Crowe, along with Ed Harris, Jennifer ...  \n5   Russell Crowe, along with Ed Harris, Jennifer ...  \n6                                                2001  \n7                                  biographical drama  \n8                                  biographical drama  \n9                                  biographical drama  \n10                                      mathematician  \n11                                      mathematician  \n12            Nobel price in Economics and Abel Prize  \n13            Nobel price in Economics and Abel Prize  \n14                                      mathematician  \n15  the bestselling Pulitzer Prize-nominated 1998 ...  \n16  Russell Crowe, along with Ed Harris, Jennifer ...  \n17  Russell Crowe, along with Ed Harris, Jennifer ...  \n18  Russell Crowe, along with Ed Harris, Jennifer ...  \n19  Russell Crowe, along with Ed Harris, Jennifer ...  \n20  Russell Crowe, along with Ed Harris, Jennifer ...  \n21                               Princeton University  \n22            Nobel price in Economics and Abel Prize  \n23                             paranoid schizophrenia  \n24                             paranoid schizophrenia  \n25                             paranoid schizophrenia  \n26                             paranoid schizophrenia  \n27                                  December 21, 2001  \n28                                               2001  \n29                                               2001  \n30                                  December 21, 2001  \n31                        over $313 million worldwide  \n32                                  December 21, 2001  \n33                                  December 21, 2001  \n34                                               four  \n35                                               four  \n36                                               four  \n37                                                yes  \n38                                                yes  \n39                                                yes  \n40                               Princeton University  \n41                        over $313 million worldwide  \n42                                      mathematician  \n43                                               2001  ",
      "text/html": "<div>\n<style scoped>\n    .dataframe tbody tr th:only-of-type {\n        vertical-align: middle;\n    }\n\n    .dataframe tbody tr th {\n        vertical-align: top;\n    }\n\n    .dataframe thead th {\n        text-align: right;\n    }\n</style>\n<table border=\"1\" class=\"dataframe\">\n  <thead>\n    <tr style=\"text-align: right;\">\n      <th></th>\n      <th>Question</th>\n      <th>Answer</th>\n      <th>Predicted</th>\n    </tr>\n  </thead>\n  <tbody>\n    <tr>\n      <th>0</th>\n      <td>From which country is the film A Beautiful Mind?</td>\n      <td>America</td>\n      <td>America</td>\n    </tr>\n    <tr>\n      <th>1</th>\n      <td>Where was the film A Beautiful Mind made?</td>\n      <td>America</td>\n      <td>2001</td>\n    </tr>\n    <tr>\n      <th>2</th>\n      <td>In which country was the film A Beautiful Mind...</td>\n      <td>America</td>\n      <td>2001</td>\n    </tr>\n    <tr>\n      <th>3</th>\n      <td>Where was the movie A Beautiful Mind made?</td>\n      <td>America</td>\n      <td>2001</td>\n    </tr>\n    <tr>\n      <th>4</th>\n      <td>From which country is the film?</td>\n      <td>America</td>\n      <td>Russell Crowe, along with Ed Harris, Jennifer ...</td>\n    </tr>\n    <tr>\n      <th>5</th>\n      <td>From which country is this film?</td>\n      <td>America</td>\n      <td>Russell Crowe, along with Ed Harris, Jennifer ...</td>\n    </tr>\n    <tr>\n      <th>6</th>\n      <td>When was the film A beautiful Mind released?</td>\n      <td>2001</td>\n      <td>2001</td>\n    </tr>\n    <tr>\n      <th>7</th>\n      <td>Of which genre is the film A Beautiful Mind?</td>\n      <td>biographical drama</td>\n      <td>biographical drama</td>\n    </tr>\n    <tr>\n      <th>8</th>\n      <td>Which kind of film is  A Beautiful Mind?</td>\n      <td>biographical drama</td>\n      <td>biographical drama</td>\n    </tr>\n    <tr>\n      <th>9</th>\n      <td>Which type of movie is  A Beautiful Mind?</td>\n      <td>biographical drama</td>\n      <td>biographical drama</td>\n    </tr>\n    <tr>\n      <th>10</th>\n      <td>What is John Nash's profession?</td>\n      <td>mathematician</td>\n      <td>mathematician</td>\n    </tr>\n    <tr>\n      <th>11</th>\n      <td>What is John Nash's job?</td>\n      <td>mathematician</td>\n      <td>mathematician</td>\n    </tr>\n    <tr>\n      <th>12</th>\n      <td>Which prices did John Nash win?</td>\n      <td>Nobel price in Economics and Abel Prize</td>\n      <td>Nobel price in Economics and Abel Prize</td>\n    </tr>\n    <tr>\n      <th>13</th>\n      <td>Which awards did John Nash win?</td>\n      <td>Nobel price in Economics and Abel Prize</td>\n      <td>Nobel price in Economics and Abel Prize</td>\n    </tr>\n    <tr>\n      <th>14</th>\n      <td>Which prices was John Nash awarded?</td>\n      <td>Nobel price in Economics and Abel Prize</td>\n      <td>mathematician</td>\n    </tr>\n    <tr>\n      <th>15</th>\n      <td>By which book was the film inspired?</td>\n      <td>the bestselling Pulitzer Prize-nominated 1998 ...</td>\n      <td>the bestselling Pulitzer Prize-nominated 1998 ...</td>\n    </tr>\n    <tr>\n      <th>16</th>\n      <td>Which book is the basis of the film?</td>\n      <td>the bestselling Pulitzer Prize-nominated 1998 ...</td>\n      <td>Russell Crowe, along with Ed Harris, Jennifer ...</td>\n    </tr>\n    <tr>\n      <th>17</th>\n      <td>Who is acting in the film?</td>\n      <td>Russell Crowe, along with Ed Harris, Jennifer ...</td>\n      <td>Russell Crowe, along with Ed Harris, Jennifer ...</td>\n    </tr>\n    <tr>\n      <th>18</th>\n      <td>Who are the actors in the film?</td>\n      <td>Russell Crowe, along with Ed Harris, Jennifer ...</td>\n      <td>Russell Crowe, along with Ed Harris, Jennifer ...</td>\n    </tr>\n    <tr>\n      <th>19</th>\n      <td>Who is starring in this film?</td>\n      <td>Russell Crowe, along with Ed Harris, Jennifer ...</td>\n      <td>Russell Crowe, along with Ed Harris, Jennifer ...</td>\n    </tr>\n    <tr>\n      <th>20</th>\n      <td>Who is acting in the movie?</td>\n      <td>Russell Crowe, along with Ed Harris, Jennifer ...</td>\n      <td>Russell Crowe, along with Ed Harris, Jennifer ...</td>\n    </tr>\n    <tr>\n      <th>21</th>\n      <td>At which university was Nash a graduate student?</td>\n      <td>Princeton University</td>\n      <td>Princeton University</td>\n    </tr>\n    <tr>\n      <th>22</th>\n      <td>Where did John Nash graduate?</td>\n      <td>Princeton University</td>\n      <td>Nobel price in Economics and Abel Prize</td>\n    </tr>\n    <tr>\n      <th>23</th>\n      <td>Where did John Nash get his university degree?</td>\n      <td>Princeton University</td>\n      <td>paranoid schizophrenia</td>\n    </tr>\n    <tr>\n      <th>24</th>\n      <td>What disease did Nash develop?</td>\n      <td>paranoid schizophrenia</td>\n      <td>paranoid schizophrenia</td>\n    </tr>\n    <tr>\n      <th>25</th>\n      <td>What illness did John Nash have?</td>\n      <td>paranoid schizophrenia</td>\n      <td>paranoid schizophrenia</td>\n    </tr>\n    <tr>\n      <th>26</th>\n      <td>Which disorder did Nash suffer from?</td>\n      <td>paranoid schizophrenia</td>\n      <td>paranoid schizophrenia</td>\n    </tr>\n    <tr>\n      <th>27</th>\n      <td>When did the film open in the United states?</td>\n      <td>December 21, 2001</td>\n      <td>December 21, 2001</td>\n    </tr>\n    <tr>\n      <th>28</th>\n      <td>When was the film released?</td>\n      <td>December 21, 2001</td>\n      <td>2001</td>\n    </tr>\n    <tr>\n      <th>29</th>\n      <td>When was the movie released?</td>\n      <td>December 21, 2001</td>\n      <td>2001</td>\n    </tr>\n    <tr>\n      <th>30</th>\n      <td>When was the movie first released in the US?</td>\n      <td>December 21, 2001</td>\n      <td>December 21, 2001</td>\n    </tr>\n    <tr>\n      <th>31</th>\n      <td>How much did the film gross?</td>\n      <td>over $313 million worldwide</td>\n      <td>over $313 million worldwide</td>\n    </tr>\n    <tr>\n      <th>32</th>\n      <td>What was the total revenue of the film?</td>\n      <td>over $313 million worldwide</td>\n      <td>December 21, 2001</td>\n    </tr>\n    <tr>\n      <th>33</th>\n      <td>What was the  revenue of the movie?</td>\n      <td>over $313 million worldwide</td>\n      <td>December 21, 2001</td>\n    </tr>\n    <tr>\n      <th>34</th>\n      <td>How many Academy Awards did the film win?</td>\n      <td>four</td>\n      <td>four</td>\n    </tr>\n    <tr>\n      <th>35</th>\n      <td>How many Oscars did the film win?</td>\n      <td>four</td>\n      <td>four</td>\n    </tr>\n    <tr>\n      <th>36</th>\n      <td>How many Oscars was the movie awarded?</td>\n      <td>four</td>\n      <td>four</td>\n    </tr>\n    <tr>\n      <th>37</th>\n      <td>Did the film win  an Academy Award?</td>\n      <td>yes</td>\n      <td>yes</td>\n    </tr>\n    <tr>\n      <th>38</th>\n      <td>Did the film win an Oscar?</td>\n      <td>yes</td>\n      <td>yes</td>\n    </tr>\n    <tr>\n      <th>39</th>\n      <td>Was the film awarded an Oscar?</td>\n      <td>yes</td>\n      <td>yes</td>\n    </tr>\n    <tr>\n      <th>40</th>\n      <td>Was the movie awarded at least one Oscar?</td>\n      <td>yes</td>\n      <td>Princeton University</td>\n    </tr>\n    <tr>\n      <th>41</th>\n      <td>When does the story begin?</td>\n      <td>In Nash's days as a graduate student at Prince...</td>\n      <td>over $313 million worldwide</td>\n    </tr>\n    <tr>\n      <th>42</th>\n      <td>What is the name of Nash’s wife?</td>\n      <td>Alicia</td>\n      <td>mathematician</td>\n    </tr>\n    <tr>\n      <th>43</th>\n      <td>Which awards did the movie A Beautiful Mind win?</td>\n      <td>Four Academy Awards, for Best Picture, Best Di...</td>\n      <td>2001</td>\n    </tr>\n  </tbody>\n</table>\n</div>"
     },
     "execution_count": 176,
     "metadata": {},
     "output_type": "execute_result"
    }
   ],
   "source": [
    "# Predict\n",
    "predicted = test_data['Question'].apply(lambda q: predict_answer(q))\n",
    "actual = test_data['Answer']\n",
    "\n",
    "test_data['Predicted'] = test_data['Question'].apply(predict_answer)\n",
    "test_data[['Question', 'Answer', 'Predicted']].head(100)"
   ],
   "metadata": {
    "collapsed": false,
    "ExecuteTime": {
     "end_time": "2024-01-16T20:50:14.080756Z",
     "start_time": "2024-01-16T20:50:06.506529Z"
    }
   },
   "id": "71c1c7525ab2a2b6",
   "execution_count": 176
  },
  {
   "cell_type": "markdown",
   "source": [
    "# Evaluate"
   ],
   "metadata": {
    "collapsed": false
   },
   "id": "acb5658194610c41"
  },
  {
   "cell_type": "code",
   "outputs": [],
   "source": [
    "def evaluate_result(predicted: str, actual: str) -> int:\n",
    "    \"\"\"\n",
    "    Evaluates individual string answer string pair\n",
    "    :param predicted: answer predicted by predictor\n",
    "    :param actual: correct answer according to data set\n",
    "    return: +1 if predicted answer is correct,\n",
    "    • if no answer is predicted (None),\n",
    "    -1 if answer is wrong\n",
    "    \"\"\"\n",
    "    if predicted is None:\n",
    "        return 0\n",
    "    elif predicted == actual:\n",
    "        return 1\n",
    "    else:\n",
    "        return -1\n",
    "\n",
    "\n",
    "def evaluate_results(predicted: pd.Series, actual: pd.Series) -> float:\n",
    "    \"\"\"\n",
    "    Evaluates a series of answer pairs :param predicted: Series of predicted answers\n",
    "    param actual: Series of correct answers\n",
    "    :return: Float value between -1 (worst) and +1 (best)\n",
    "    \"\"\"\n",
    "    sum = 0\n",
    "    for index, value in predicted.items():\n",
    "        eval = evaluate_result(value, actual[index])\n",
    "        sum += eval\n",
    "        result = sum / predicted.size\n",
    "    return result"
   ],
   "metadata": {
    "collapsed": false,
    "ExecuteTime": {
     "end_time": "2024-01-16T20:50:14.081080Z",
     "start_time": "2024-01-16T20:50:14.078445Z"
    }
   },
   "id": "e7fd40c194a2dd1d",
   "execution_count": 177
  },
  {
   "cell_type": "markdown",
   "source": [
    "# Ergebnisse evaluieren"
   ],
   "metadata": {
    "collapsed": false
   },
   "id": "e4d93bf567f2bd00"
  },
  {
   "cell_type": "code",
   "outputs": [
    {
     "name": "stdout",
     "output_type": "stream",
     "text": [
      "Score: 0.22727272727272727\n"
     ]
    }
   ],
   "source": [
    "score = evaluate_results(predicted, actual)\n",
    "print(f\"Score: {score}\")"
   ],
   "metadata": {
    "collapsed": false,
    "ExecuteTime": {
     "end_time": "2024-01-16T20:50:14.084730Z",
     "start_time": "2024-01-16T20:50:14.081352Z"
    }
   },
   "id": "6cbd81f33a006a40",
   "execution_count": 178
  }
 ],
 "metadata": {
  "kernelspec": {
   "display_name": "Python 3",
   "language": "python",
   "name": "python3"
  },
  "language_info": {
   "codemirror_mode": {
    "name": "ipython",
    "version": 2
   },
   "file_extension": ".py",
   "mimetype": "text/x-python",
   "name": "python",
   "nbconvert_exporter": "python",
   "pygments_lexer": "ipython2",
   "version": "2.7.6"
  }
 },
 "nbformat": 4,
 "nbformat_minor": 5
}
