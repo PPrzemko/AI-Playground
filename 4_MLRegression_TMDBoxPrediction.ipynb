{
 "cells": [
  {
   "cell_type": "markdown",
   "source": [
    "TMDB Box Office Prediction\n",
    "========================="
   ],
   "metadata": {
    "collapsed": false
   },
   "id": "a1701a9742538da4"
  },
  {
   "cell_type": "code",
   "execution_count": 1,
   "outputs": [],
   "source": [
    "import pandas as pd\n",
    "from sklearn.impute import SimpleImputer\n",
    "from sklearn.tree import DecisionTreeClassifier\n",
    "import numpy as np\n",
    "from sklearn import preprocessing\n",
    "from sklearn.model_selection import cross_val_score\n",
    "from sklearn.svm import SVR"
   ],
   "metadata": {
    "collapsed": false,
    "ExecuteTime": {
     "end_time": "2023-11-15T18:39:10.037943Z",
     "start_time": "2023-11-15T18:39:03.774777Z"
    }
   },
   "id": "7c03f00ed777381c"
  },
  {
   "cell_type": "code",
   "execution_count": 2,
   "id": "initial_id",
   "metadata": {
    "collapsed": true,
    "ExecuteTime": {
     "end_time": "2023-11-15T18:39:10.898452Z",
     "start_time": "2023-11-15T18:39:10.033201Z"
    }
   },
   "outputs": [],
   "source": [
    "train_data = pd.read_csv(\"data/tmdb-box-office-prediction/train.csv\")\n",
    "test_data = pd.read_csv(\"data/tmdb-box-office-prediction/test.csv\")"
   ]
  },
  {
   "cell_type": "code",
   "execution_count": 3,
   "outputs": [
    {
     "data": {
      "text/plain": "     budget  popularity  runtime\n0         0    3.851534     90.0\n1     88000    3.559789     65.0\n2         0    8.085194    100.0\n3   6800000    8.596012    130.0\n4   2000000    3.217680     92.0\n5         0    8.679350    121.0\n6         0    4.898882    119.0\n7  30000000    7.023414     77.0\n8  16500000    7.829737    120.0\n9  90000000   17.547693     92.0",
      "text/html": "<div>\n<style scoped>\n    .dataframe tbody tr th:only-of-type {\n        vertical-align: middle;\n    }\n\n    .dataframe tbody tr th {\n        vertical-align: top;\n    }\n\n    .dataframe thead th {\n        text-align: right;\n    }\n</style>\n<table border=\"1\" class=\"dataframe\">\n  <thead>\n    <tr style=\"text-align: right;\">\n      <th></th>\n      <th>budget</th>\n      <th>popularity</th>\n      <th>runtime</th>\n    </tr>\n  </thead>\n  <tbody>\n    <tr>\n      <th>0</th>\n      <td>0</td>\n      <td>3.851534</td>\n      <td>90.0</td>\n    </tr>\n    <tr>\n      <th>1</th>\n      <td>88000</td>\n      <td>3.559789</td>\n      <td>65.0</td>\n    </tr>\n    <tr>\n      <th>2</th>\n      <td>0</td>\n      <td>8.085194</td>\n      <td>100.0</td>\n    </tr>\n    <tr>\n      <th>3</th>\n      <td>6800000</td>\n      <td>8.596012</td>\n      <td>130.0</td>\n    </tr>\n    <tr>\n      <th>4</th>\n      <td>2000000</td>\n      <td>3.217680</td>\n      <td>92.0</td>\n    </tr>\n    <tr>\n      <th>5</th>\n      <td>0</td>\n      <td>8.679350</td>\n      <td>121.0</td>\n    </tr>\n    <tr>\n      <th>6</th>\n      <td>0</td>\n      <td>4.898882</td>\n      <td>119.0</td>\n    </tr>\n    <tr>\n      <th>7</th>\n      <td>30000000</td>\n      <td>7.023414</td>\n      <td>77.0</td>\n    </tr>\n    <tr>\n      <th>8</th>\n      <td>16500000</td>\n      <td>7.829737</td>\n      <td>120.0</td>\n    </tr>\n    <tr>\n      <th>9</th>\n      <td>90000000</td>\n      <td>17.547693</td>\n      <td>92.0</td>\n    </tr>\n  </tbody>\n</table>\n</div>"
     },
     "execution_count": 3,
     "metadata": {},
     "output_type": "execute_result"
    }
   ],
   "source": [
    "\n",
    "imp = SimpleImputer(missing_values=np.nan, strategy='mean')\n",
    "train_data['runtime'] = imp.fit_transform(train_data[['runtime']])\n",
    "test_data['runtime'] = imp.fit_transform(test_data[['runtime']])\n",
    "\n",
    "\n",
    "features = [\"budget\", \"popularity\", \"runtime\"]\n",
    "X = train_data [features]\n",
    "y = train_data [\"revenue\"]\n",
    "\n",
    "\n",
    "\n",
    "X = pd.get_dummies(train_data[features])\n",
    "X_test = pd.get_dummies(test_data[features])\n",
    "X_test.head(10)\n"
   ],
   "metadata": {
    "collapsed": false,
    "ExecuteTime": {
     "end_time": "2023-11-15T18:39:10.937555Z",
     "start_time": "2023-11-15T18:39:10.904952Z"
    }
   },
   "id": "fcf7e7e1bcaaf3a9"
  },
  {
   "cell_type": "code",
   "execution_count": 4,
   "outputs": [
    {
     "name": "stdout",
     "output_type": "stream",
     "text": [
      "RMSE: -145647192.2201044\n",
      "Accuracy: -0.13402802710975137\n"
     ]
    }
   ],
   "source": [
    "model = SVR()\n",
    "model.fit(X, y)\n",
    "\n",
    "\n",
    "scores = cross_val_score(model, X, y, scoring='neg_root_mean_squared_error')\n",
    "print(f'RMSE: {scores.mean()}')\n",
    "\n",
    "\n",
    "scores = cross_val_score(model, X, y)\n",
    "print(f'Accuracy: {scores.mean()}')\n",
    "\n",
    "\n",
    "predictions = model.predict(X_test)\n",
    "output = pd.DataFrame({'id': test_data.id, 'revenue': predictions})\n",
    "output.to_csv('data/tmdb-box-office-prediction/submission.csv', index=False)"
   ],
   "metadata": {
    "collapsed": false,
    "ExecuteTime": {
     "end_time": "2023-11-15T18:39:15.996893Z",
     "start_time": "2023-11-15T18:39:10.920372Z"
    }
   },
   "id": "b9a219b6ad399de0"
  },
  {
   "cell_type": "code",
   "execution_count": 4,
   "outputs": [],
   "source": [],
   "metadata": {
    "collapsed": false,
    "ExecuteTime": {
     "end_time": "2023-11-15T18:39:16.002694Z",
     "start_time": "2023-11-15T18:39:15.997381Z"
    }
   },
   "id": "db12186859b8b1ef"
  }
 ],
 "metadata": {
  "kernelspec": {
   "display_name": "Python 3",
   "language": "python",
   "name": "python3"
  },
  "language_info": {
   "codemirror_mode": {
    "name": "ipython",
    "version": 2
   },
   "file_extension": ".py",
   "mimetype": "text/x-python",
   "name": "python",
   "nbconvert_exporter": "python",
   "pygments_lexer": "ipython2",
   "version": "2.7.6"
  }
 },
 "nbformat": 4,
 "nbformat_minor": 5
}
