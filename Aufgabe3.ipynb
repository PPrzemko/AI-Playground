{
 "cells": [
  {
   "cell_type": "markdown",
   "source": [
    "Titanic - Machine Learning from Disaster"
   ],
   "metadata": {
    "collapsed": false
   },
   "id": "20fb4892dfb9d338"
  },
  {
   "cell_type": "code",
   "execution_count": 6,
   "outputs": [],
   "source": [
    "import pandas as pd\n",
    "from sklearn.impute import SimpleImputer\n",
    "from sklearn.tree import DecisionTreeClassifier\n",
    "import numpy as np\n",
    "from sklearn import preprocessing"
   ],
   "metadata": {
    "collapsed": false,
    "ExecuteTime": {
     "end_time": "2023-10-26T20:07:01.533492300Z",
     "start_time": "2023-10-26T20:07:01.525765500Z"
    }
   }
  },
  {
   "cell_type": "code",
   "execution_count": 7,
   "outputs": [],
   "source": [
    "# Load the data\n",
    "train_data = pd.read_csv(\"data/titanic/train.csv\")\n",
    "test_data = pd.read_csv(\"data/titanic/test.csv\")\n"
   ],
   "metadata": {
    "collapsed": false,
    "ExecuteTime": {
     "end_time": "2023-10-26T20:07:01.541108500Z",
     "start_time": "2023-10-26T20:07:01.528982Z"
    }
   },
   "id": "47573bdc1e3212ab"
  },
  {
   "cell_type": "code",
   "execution_count": 8,
   "outputs": [],
   "source": [
    "# Tranform the data to numeric\n",
    "le1 = preprocessing.LabelEncoder()\n",
    "train_data['Sex'] =le1.fit_transform(train_data['Sex'])\n",
    "test_data['Sex'] =le1.fit_transform(test_data['Sex'])"
   ],
   "metadata": {
    "collapsed": false,
    "ExecuteTime": {
     "end_time": "2023-10-26T20:07:01.545512500Z",
     "start_time": "2023-10-26T20:07:01.542617400Z"
    }
   },
   "id": "fdef45bfa67c1b6e"
  },
  {
   "cell_type": "code",
   "execution_count": 9,
   "outputs": [
    {
     "name": "stdout",
     "output_type": "stream",
     "text": [
      "     PassengerId  Survived\n",
      "0            892         0\n",
      "1            893         0\n",
      "2            894         0\n",
      "3            895         0\n",
      "4            896         0\n",
      "..           ...       ...\n",
      "413         1305         0\n",
      "414         1306         1\n",
      "415         1307         0\n",
      "416         1308         0\n",
      "417         1309         0\n",
      "\n",
      "[418 rows x 2 columns]\n"
     ]
    }
   ],
   "source": [
    "# Define the target variable and features\n",
    "y = train_data[\"Survived\"]\n",
    "features = [\"Pclass\", \"Sex\", \"SibSp\", \"Parch\"]\n",
    "X = train_data[features]\n",
    "\n",
    "# Handle missing values\n",
    "train_data['Embarked'] = train_data['Embarked'].fillna('S')\n",
    "imp = SimpleImputer(missing_values=np.nan, strategy='mean')\n",
    "train_data['Age'] = imp.fit_transform(train_data[['Age']])\n",
    "\n",
    "# Create the model\n",
    "model = DecisionTreeClassifier()\n",
    "\n",
    "# Fit the model to the data\n",
    "model.fit(X, y)\n",
    "\n",
    "# Use the model to predict on the test data\n",
    "X_test = test_data[features]\n",
    "test_predictions = model.predict(X_test)\n",
    "\n",
    "# Create the 'output' dataframe using the test data\n",
    "output = pd.DataFrame({'PassengerId': test_data['PassengerId'], 'Survived': test_predictions})\n",
    "\n",
    "# Save the predictions to a CSV file\n",
    "print(output)\n",
    "output.to_csv('data/titanic/submission.csv', index=False)"
   ],
   "metadata": {
    "collapsed": false,
    "ExecuteTime": {
     "end_time": "2023-10-26T20:07:01.562530300Z",
     "start_time": "2023-10-26T20:07:01.547072100Z"
    }
   },
   "id": "9fe902b5cf978908"
  }
 ],
 "metadata": {
  "kernelspec": {
   "display_name": "Python 3",
   "language": "python",
   "name": "python3"
  },
  "language_info": {
   "codemirror_mode": {
    "name": "ipython",
    "version": 2
   },
   "file_extension": ".py",
   "mimetype": "text/x-python",
   "name": "python",
   "nbconvert_exporter": "python",
   "pygments_lexer": "ipython2",
   "version": "2.7.6"
  }
 },
 "nbformat": 4,
 "nbformat_minor": 5
}
