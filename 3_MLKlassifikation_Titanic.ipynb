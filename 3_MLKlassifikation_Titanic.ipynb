{
 "cells": [
  {
   "cell_type": "markdown",
   "source": [
    "Titanic - Machine Learning from Disaster"
   ],
   "metadata": {
    "collapsed": false
   },
   "id": "20fb4892dfb9d338"
  },
  {
   "cell_type": "code",
   "execution_count": 1,
   "outputs": [],
   "source": [
    "import pandas as pd\n",
    "from sklearn.impute import SimpleImputer\n",
    "from sklearn.tree import DecisionTreeClassifier\n",
    "import numpy as np\n",
    "from sklearn import preprocessing"
   ],
   "metadata": {
    "collapsed": false,
    "ExecuteTime": {
     "end_time": "2023-11-02T08:36:57.343361Z",
     "start_time": "2023-11-02T08:36:51.328523Z"
    }
   },
   "id": "4893828abbaba035"
  },
  {
   "cell_type": "code",
   "execution_count": 2,
   "outputs": [],
   "source": [
    "train_data = pd.read_csv(\"data/titanic/train.csv\")\n",
    "test_data = pd.read_csv(\"data/titanic/test.csv\")"
   ],
   "metadata": {
    "collapsed": false,
    "ExecuteTime": {
     "end_time": "2023-11-02T08:36:57.351595Z",
     "start_time": "2023-11-02T08:36:57.340941Z"
    }
   },
   "id": "47573bdc1e3212ab"
  },
  {
   "cell_type": "code",
   "execution_count": 3,
   "outputs": [],
   "source": [
    "# Tranform the data to numeric\n",
    "le1 = preprocessing.LabelEncoder()\n",
    "train_data['Sex'] =le1.fit_transform(train_data['Sex'])\n",
    "test_data['Sex'] =le1.fit_transform(test_data['Sex'])"
   ],
   "metadata": {
    "collapsed": false,
    "ExecuteTime": {
     "end_time": "2023-11-02T08:36:57.357036Z",
     "start_time": "2023-11-02T08:36:57.355447Z"
    }
   },
   "id": "fdef45bfa67c1b6e"
  },
  {
   "cell_type": "code",
   "execution_count": 4,
   "outputs": [
    {
     "data": {
      "text/plain": "0    0\n1    1\n2    1\n3    1\n4    0\nName: Survived, dtype: int64"
     },
     "execution_count": 4,
     "metadata": {},
     "output_type": "execute_result"
    }
   ],
   "source": [
    "# define features\n",
    "y = train_data[\"Survived\"]\n",
    "y.head()"
   ],
   "metadata": {
    "collapsed": false,
    "ExecuteTime": {
     "end_time": "2023-11-02T08:36:57.389610Z",
     "start_time": "2023-11-02T08:36:57.362716Z"
    }
   },
   "id": "9fe902b5cf978908"
  },
  {
   "cell_type": "code",
   "execution_count": 5,
   "outputs": [
    {
     "data": {
      "text/plain": "   Pclass  Sex  SibSp  Parch\n0       3    1      1      0\n1       1    0      1      0\n2       3    0      0      0\n3       1    0      1      0\n4       3    1      0      0",
      "text/html": "<div>\n<style scoped>\n    .dataframe tbody tr th:only-of-type {\n        vertical-align: middle;\n    }\n\n    .dataframe tbody tr th {\n        vertical-align: top;\n    }\n\n    .dataframe thead th {\n        text-align: right;\n    }\n</style>\n<table border=\"1\" class=\"dataframe\">\n  <thead>\n    <tr style=\"text-align: right;\">\n      <th></th>\n      <th>Pclass</th>\n      <th>Sex</th>\n      <th>SibSp</th>\n      <th>Parch</th>\n    </tr>\n  </thead>\n  <tbody>\n    <tr>\n      <th>0</th>\n      <td>3</td>\n      <td>1</td>\n      <td>1</td>\n      <td>0</td>\n    </tr>\n    <tr>\n      <th>1</th>\n      <td>1</td>\n      <td>0</td>\n      <td>1</td>\n      <td>0</td>\n    </tr>\n    <tr>\n      <th>2</th>\n      <td>3</td>\n      <td>0</td>\n      <td>0</td>\n      <td>0</td>\n    </tr>\n    <tr>\n      <th>3</th>\n      <td>1</td>\n      <td>0</td>\n      <td>1</td>\n      <td>0</td>\n    </tr>\n    <tr>\n      <th>4</th>\n      <td>3</td>\n      <td>1</td>\n      <td>0</td>\n      <td>0</td>\n    </tr>\n  </tbody>\n</table>\n</div>"
     },
     "execution_count": 5,
     "metadata": {},
     "output_type": "execute_result"
    }
   ],
   "source": [
    "features = [\"Pclass\", \"Sex\", \"SibSp\", \"Parch\"]\n",
    "X = train_data[features]\n",
    "# X = pd.get_dummies(train_data[features])\n",
    "# X_test = pd.get_dummies(test_data[features]) male/female to numeric\n",
    "X.head()"
   ],
   "metadata": {
    "collapsed": false,
    "ExecuteTime": {
     "end_time": "2023-11-02T08:36:57.390803Z",
     "start_time": "2023-11-02T08:36:57.368939Z"
    }
   },
   "id": "f9bdcc125aae6d08"
  },
  {
   "cell_type": "code",
   "execution_count": 6,
   "outputs": [
    {
     "data": {
      "text/plain": "   PassengerId  Survived\n0          892         0\n1          893         0\n2          894         0\n3          895         0\n4          896         0",
      "text/html": "<div>\n<style scoped>\n    .dataframe tbody tr th:only-of-type {\n        vertical-align: middle;\n    }\n\n    .dataframe tbody tr th {\n        vertical-align: top;\n    }\n\n    .dataframe thead th {\n        text-align: right;\n    }\n</style>\n<table border=\"1\" class=\"dataframe\">\n  <thead>\n    <tr style=\"text-align: right;\">\n      <th></th>\n      <th>PassengerId</th>\n      <th>Survived</th>\n    </tr>\n  </thead>\n  <tbody>\n    <tr>\n      <th>0</th>\n      <td>892</td>\n      <td>0</td>\n    </tr>\n    <tr>\n      <th>1</th>\n      <td>893</td>\n      <td>0</td>\n    </tr>\n    <tr>\n      <th>2</th>\n      <td>894</td>\n      <td>0</td>\n    </tr>\n    <tr>\n      <th>3</th>\n      <td>895</td>\n      <td>0</td>\n    </tr>\n    <tr>\n      <th>4</th>\n      <td>896</td>\n      <td>0</td>\n    </tr>\n  </tbody>\n</table>\n</div>"
     },
     "execution_count": 6,
     "metadata": {},
     "output_type": "execute_result"
    }
   ],
   "source": [
    "# fix missing values - not used because makes prediction worse\n",
    "train_data['Embarked'] = train_data['Embarked'].fillna('S')\n",
    "imp = SimpleImputer(missing_values=np.nan, strategy='mean')\n",
    "train_data['Age'] = imp.fit_transform(train_data[['Age']])\n",
    "\n",
    "# Create the model\n",
    "model = DecisionTreeClassifier()\n",
    "# model2= DecisionTreeClassifier(max_depth=7, random_state=1)\n",
    "\n",
    "# Fit model\n",
    "model.fit(X, y)\n",
    "\n",
    "# predict on the test data\n",
    "X_test = test_data[features]\n",
    "test_predictions = model.predict(X_test)\n",
    "\n",
    "# 'output' dataframe using the test data\n",
    "output = pd.DataFrame({'PassengerId': test_data['PassengerId'], 'Survived': test_predictions})\n",
    "\n",
    "output.to_csv('data/titanic/submission.csv', index=False)\n",
    "output.head()"
   ],
   "metadata": {
    "collapsed": false,
    "ExecuteTime": {
     "end_time": "2023-11-02T08:36:57.391861Z",
     "start_time": "2023-11-02T08:36:57.380300Z"
    }
   },
   "id": "69a68ab73a59facd"
  }
 ],
 "metadata": {
  "kernelspec": {
   "display_name": "Python 3",
   "language": "python",
   "name": "python3"
  },
  "language_info": {
   "codemirror_mode": {
    "name": "ipython",
    "version": 2
   },
   "file_extension": ".py",
   "mimetype": "text/x-python",
   "name": "python",
   "nbconvert_exporter": "python",
   "pygments_lexer": "ipython2",
   "version": "2.7.6"
  }
 },
 "nbformat": 4,
 "nbformat_minor": 5
}
