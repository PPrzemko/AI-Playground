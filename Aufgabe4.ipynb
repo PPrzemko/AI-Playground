{
 "cells": [
  {
   "cell_type": "markdown",
   "source": [
    "TMDB Box Office Prediction\n",
    "========================="
   ],
   "metadata": {
    "collapsed": false
   },
   "id": "a1701a9742538da4"
  },
  {
   "cell_type": "code",
   "execution_count": null,
   "outputs": [],
   "source": [
    "import pandas as pd\n",
    "from sklearn.impute import SimpleImputer\n",
    "from sklearn.tree import DecisionTreeClassifier\n",
    "import numpy as np\n",
    "from sklearn import preprocessing"
   ],
   "metadata": {
    "collapsed": false
   },
   "id": "7c03f00ed777381c"
  },
  {
   "cell_type": "code",
   "execution_count": null,
   "id": "initial_id",
   "metadata": {
    "collapsed": true
   },
   "outputs": [],
   "source": [
    "train_data = pd.read_csv(\"data/tmdb-box-office-prediction/train.csv\")\n",
    "test_data = pd.read_csv(\"data/tmdb-box-office-prediction/test.csv\")"
   ]
  }
 ],
 "metadata": {
  "kernelspec": {
   "display_name": "Python 3",
   "language": "python",
   "name": "python3"
  },
  "language_info": {
   "codemirror_mode": {
    "name": "ipython",
    "version": 2
   },
   "file_extension": ".py",
   "mimetype": "text/x-python",
   "name": "python",
   "nbconvert_exporter": "python",
   "pygments_lexer": "ipython2",
   "version": "2.7.6"
  }
 },
 "nbformat": 4,
 "nbformat_minor": 5
}
